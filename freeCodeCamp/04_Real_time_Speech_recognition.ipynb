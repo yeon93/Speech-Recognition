{
 "cells": [
  {
   "cell_type": "code",
   "execution_count": 1,
   "metadata": {},
   "outputs": [],
   "source": [
    "import pyaudio\n",
    "import websockets\n",
    "import asyncio\n",
    "import base64    #보내기 전 데이터를 base64 문자열로 인코딩해야 함\n",
    "import json\n",
    "from openai_api_key import API_KEY_OPENAI\n",
    "from assemblyai_api_key import API_KEY_ASSEMBLYAI\n",
    "import openai\n",
    "#conda install -c conda-forge openai\n",
    "\n",
    "openai.api_key = API_KEY_OPENAI"
   ]
  },
  {
   "cell_type": "code",
   "execution_count": 2,
   "metadata": {},
   "outputs": [],
   "source": [
    "def ask_computer(prompt):\n",
    "    res = openai.Completion.create(\n",
    "        engine=\"text-davinci-002\",\n",
    "        prompt=prompt,\n",
    "    )\n",
    "    print(res)\n",
    "    return res[\"choices\"][0][\"text\"]\n"
   ]
  },
  {
   "cell_type": "code",
   "execution_count": 3,
   "metadata": {},
   "outputs": [
    {
     "name": "stdout",
     "output_type": "stream",
     "text": [
      "{\n",
      "  \"choices\": [\n",
      "    {\n",
      "      \"finish_reason\": \"stop\",\n",
      "      \"index\": 0,\n",
      "      \"logprobs\": null,\n",
      "      \"text\": \"\\n\\nMy favorite color is definitely blue!\"\n",
      "    }\n",
      "  ],\n",
      "  \"created\": 1673423538,\n",
      "  \"id\": \"cmpl-6XQCAKdG2y4Obc11dvr2vb8tRp4ug\",\n",
      "  \"model\": \"text-davinci-002\",\n",
      "  \"object\": \"text_completion\",\n",
      "  \"usage\": {\n",
      "    \"completion_tokens\": 9,\n",
      "    \"prompt_tokens\": 6,\n",
      "    \"total_tokens\": 15\n",
      "  }\n",
      "}\n"
     ]
    },
    {
     "data": {
      "text/plain": [
       "'\\n\\nMy favorite color is definitely blue!'"
      ]
     },
     "execution_count": 3,
     "metadata": {},
     "output_type": "execute_result"
    }
   ],
   "source": [
    "prompt = \"What is your favorite color?\"\n",
    "\n",
    "ask_computer(prompt)"
   ]
  },
  {
   "cell_type": "code",
   "execution_count": null,
   "metadata": {},
   "outputs": [],
   "source": [
    "#Basic의 음성 녹음 코드\n",
    "FRAMES_PER_BUFFER = 3200\n",
    "FORMAT = pyaudio.paInt16    \n",
    "CHANNELS = 1\n",
    "RATE = 8000\n",
    "\n",
    "p = pyaudio.PyAudio()\n",
    "stream = p.open(rate=RATE,\n",
    "                channels=CHANNELS,\n",
    "                format=FORMAT,\n",
    "                input=True,\n",
    "                frames_per_buffer=FRAMES_PER_BUFFER)    #OSError: No Default Input Device Available 현재 컴퓨터에 음성입력 디바이스(마이크)가 없음"
   ]
  },
  {
   "cell_type": "code",
   "execution_count": null,
   "metadata": {},
   "outputs": [],
   "source": [
    "#websocket을 위한 url\n",
    "URL = 'wss://api.assemblyai.com/v2/realtime/ws?sample_rate=16000'"
   ]
  },
  {
   "cell_type": "code",
   "execution_count": null,
   "metadata": {},
   "outputs": [],
   "source": [
    "#데이터를 보내고 받는 함수\n",
    "async def send_receive():\n",
    "    print(f'Connecting websocket to url ${URL}')\n",
    "    async with websockets.connect(\n",
    "        URL,\n",
    "        extra_headers=((\"Authorization\", API_KEY_ASSEMBLYAI),),\n",
    "        ping_interval=5,\n",
    "        ping_timeout=20\n",
    "    ) as _ws:\n",
    "        await asyncio.sleep(0.1)\n",
    "        print(\"Receiving SessionBegins ...\")\n",
    "        session_begins = await _ws.recv()\n",
    "        print(session_begins)\n",
    "        print(\"Sending messages ...\")\n",
    "        async def send():\n",
    "            while True:\n",
    "                try:\n",
    "                    data = stream.read(FRAMES_PER_BUFFER, exception_on_overflow=False)\n",
    "                    data = base64.b64encode(data).decode(\"utf-8\")\n",
    "                    json_data = json.dumps({\"audio_data\":str(data)})\n",
    "                    await _ws.send(json_data)\n",
    "                except websockets.exceptions.ConnectionClosedError as e:\n",
    "                    print(e)\n",
    "                    assert e.code == 4008\n",
    "                    break\n",
    "                except Exception as e:\n",
    "                    assert False, \"Not a websocket 4008 error\"\n",
    "                await asyncio.sleep(0.01)\n",
    "          \n",
    "            return True\n",
    "      \n",
    "        async def receive():\n",
    "            while True:\n",
    "                try:\n",
    "                    result_str = await _ws.recv()\n",
    "                    result = json.loads(result_str)\n",
    "                    prompt = result['text']\n",
    "                    if prompt and result['message_type'] == 'FinalTranscript':\n",
    "                        print(\"Me:\", prompt)\n",
    "                        answer = ask_computer(prompt)\n",
    "                        print(\"Bot\", answer)\n",
    "                except websockets.exceptions.ConnectionClosedError as e:\n",
    "                    print(e)\n",
    "                    assert e.code == 4008\n",
    "                    break\n",
    "                except Exception as e:\n",
    "                    assert False, \"Not a websocket 4008 error\"\n",
    "      \n",
    "        send_result, receive_result = await asyncio.gather(send(), receive())"
   ]
  },
  {
   "cell_type": "code",
   "execution_count": null,
   "metadata": {},
   "outputs": [],
   "source": [
    "asyncio.run(send_receive())"
   ]
  }
 ],
 "metadata": {
  "kernelspec": {
   "display_name": "Python 3.7.15 ('STT')",
   "language": "python",
   "name": "python3"
  },
  "language_info": {
   "codemirror_mode": {
    "name": "ipython",
    "version": 3
   },
   "file_extension": ".py",
   "mimetype": "text/x-python",
   "name": "python",
   "nbconvert_exporter": "python",
   "pygments_lexer": "ipython3",
   "version": "3.7.15"
  },
  "orig_nbformat": 4,
  "vscode": {
   "interpreter": {
    "hash": "12f7c914f2c09b1ef90ddbb024773f85075900a8bd245c347c4a00936b166754"
   }
  }
 },
 "nbformat": 4,
 "nbformat_minor": 2
}
